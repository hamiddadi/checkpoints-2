{
 "cells": [
  {
   "cell_type": "code",
   "execution_count": 1,
   "id": "d8e210b3",
   "metadata": {},
   "outputs": [
    {
     "name": "stdout",
     "output_type": "stream",
     "text": [
      "Give me your First Name: HAMID\n",
      "Give me your last Name : DADI\n",
      "the name is:  DADI HAMID\n"
     ]
    }
   ],
   "source": [
    "firstName = input(\"Give me your First Name: \")\n",
    "LastName = input(\"Give me your last Name : \")\n",
    "print(\"the name is: \", LastName+\" \"+firstName )"
   ]
  },
  {
   "cell_type": "code",
   "execution_count": 80,
   "id": "3e0ebbe5",
   "metadata": {},
   "outputs": [
    {
     "name": "stdout",
     "output_type": "stream",
     "text": [
      "Give me number integer : 1\n",
      "th result is:  123\n"
     ]
    }
   ],
   "source": [
    "a = input(\"Give me number integer : \")\n",
    "\n",
    "d =a+a \n",
    "e =a+a+a\n",
    "\n",
    "x = int(a) + int(d) + int(e)\n",
    "\n",
    "print(\"th result is: \", x)"
   ]
  },
  {
   "cell_type": "code",
   "execution_count": 88,
   "id": "23c2be22",
   "metadata": {},
   "outputs": [
    {
     "name": "stdout",
     "output_type": "stream",
     "text": [
      "Give me number: 11\n",
      "a is impair\n"
     ]
    }
   ],
   "source": [
    "a = int(input(\"Give me number: \"))\n",
    "if a % 2 == 0:\n",
    "    \n",
    "    print(\"a is pair\")\n",
    "    \n",
    "else:\n",
    "    print(\"a is impair\")\n",
    "    "
   ]
  },
  {
   "cell_type": "code",
   "execution_count": 115,
   "id": "ddcd7532",
   "metadata": {},
   "outputs": [
    {
     "name": "stdout",
     "output_type": "stream",
     "text": [
      "2002,2009,2016,2023,2037,2044,2051,2058,2072,2079,2086,2093,2107,2114,2121,2128,2142,2149,2156,2163,2177,2184,2191,2198,2212,2219,2226,2233,2247,2254,2261,2268,2282,2289,2296,2303,2317,2324,2331,2338,2352,2359,2366,2373,2387,2394,2401,2408,2422,2429,2436,2443,2457,2464,2471,2478,2492,2499,2506,2513,2527,2534,2541,2548,2562,2569,2576,2583,2597,2604,2611,2618,2632,2639,2646,2653,2667,2674,2681,2688,2702,2709,2716,2723,2737,2744,2751,2758,2772,2779,2786,2793,2807,2814,2821,2828,2842,2849,2856,2863,2877,2884,2891,2898,2912,2919,2926,2933,2947,2954,2961,2968,2982,2989,2996,3003,3017,3024,3031,3038,3052,3059,3066,3073,3087,3094,3101,3108,3122,3129,3136,3143,3157,3164,3171,3178,3192,3199,"
     ]
    }
   ],
   "source": [
    "x = range(2000, 3200)\n",
    "for n in x :\n",
    "    if n % 7 == 0 and n % 5 != 0:\n",
    "        print (n, end =\",\")\n",
    "    "
   ]
  },
  {
   "cell_type": "code",
   "execution_count": 143,
   "id": "6810cda8",
   "metadata": {},
   "outputs": [
    {
     "name": "stdout",
     "output_type": "stream",
     "text": [
      "5\n",
      "120\n"
     ]
    }
   ],
   "source": [
    "x = int(input())\n",
    "a = 1\n",
    "while x > 0:\n",
    "    \n",
    "    a = a * x\n",
    "    \n",
    "    x = x - 1\n",
    "    \n",
    "print (a)"
   ]
  },
  {
   "cell_type": "code",
   "execution_count": 34,
   "id": "78d359bc",
   "metadata": {},
   "outputs": [
    {
     "name": "stdout",
     "output_type": "stream",
     "text": [
      "helo tam\n"
     ]
    }
   ],
   "source": [
    "n=\"hello team\"\n",
    "r=\"\"\n",
    "for i in range(len(n)):\n",
    "    if n[i] in r:\n",
    "        pass\n",
    "    else:\n",
    "        r=r+n[i]\n",
    "print(r) "
   ]
  },
  {
   "cell_type": "code",
   "execution_count": 31,
   "id": "112dd9fe",
   "metadata": {},
   "outputs": [
    {
     "name": "stdout",
     "output_type": "stream",
     "text": [
      "le prix : 400\n",
      "discount 120.0\n",
      "le prix :  280.0\n"
     ]
    }
   ],
   "source": [
    "a = int(input(\"le prix : \"))\n",
    "discount = 1\n",
    "d = 1\n",
    "if a >= 500:\n",
    "    discount = a * 0.5\n",
    "    d = a - discount\n",
    "    print (\"discount : \",discount)\n",
    "    print (\"le prix : \",d)\n",
    "elif a >= 200 and a < 500:\n",
    "    discount = a * 0.3\n",
    "    d = a - discount\n",
    "    print(\"discount\",discount)\n",
    "    print (\"le prix : \",d)\n",
    "elif a < 200:\n",
    "    discount = a * 0.1\n",
    "    d = a - discount\n",
    "    print (\"discount\",discount)\n",
    "    print (\"le prix : \",d)\n",
    "        "
   ]
  }
 ],
 "metadata": {
  "kernelspec": {
   "display_name": "Python 3 (ipykernel)",
   "language": "python",
   "name": "python3"
  },
  "language_info": {
   "codemirror_mode": {
    "name": "ipython",
    "version": 3
   },
   "file_extension": ".py",
   "mimetype": "text/x-python",
   "name": "python",
   "nbconvert_exporter": "python",
   "pygments_lexer": "ipython3",
   "version": "3.9.12"
  }
 },
 "nbformat": 4,
 "nbformat_minor": 5
}
